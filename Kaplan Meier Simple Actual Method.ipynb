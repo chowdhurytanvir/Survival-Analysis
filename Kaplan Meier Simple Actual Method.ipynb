{
 "cells": [
  {
   "cell_type": "code",
   "execution_count": 1,
   "metadata": {},
   "outputs": [
    {
     "data": {
      "text/plain": [
       "['Sheet1']"
      ]
     },
     "execution_count": 1,
     "metadata": {},
     "output_type": "execute_result"
    }
   ],
   "source": [
    "## reference: https://lifelines.readthedocs.io/en/latest/Survival%20analysis%20with%20lifelines.html\n",
    "import matplotlib as plt\n",
    "import pandas as pd\n",
    "import numpy as np\n",
    "\n",
    "Location = r'C:\\Users\\sunny\\documents\\test.xlsx'\n",
    "xl = pd.ExcelFile(Location)\n",
    "xl.sheet_names\n",
    "## [u'Sheet1'] ## write [u'Sheet2',u'sheet3'] in case of more sheet\n",
    "## df = xl.parse(\"Sheet1\")\n",
    "## df.head()"
   ]
  },
  {
   "cell_type": "code",
   "execution_count": 2,
   "metadata": {},
   "outputs": [
    {
     "data": {
      "text/html": [
       "<div>\n",
       "<style scoped>\n",
       "    .dataframe tbody tr th:only-of-type {\n",
       "        vertical-align: middle;\n",
       "    }\n",
       "\n",
       "    .dataframe tbody tr th {\n",
       "        vertical-align: top;\n",
       "    }\n",
       "\n",
       "    .dataframe thead th {\n",
       "        text-align: right;\n",
       "    }\n",
       "</style>\n",
       "<table border=\"1\" class=\"dataframe\">\n",
       "  <thead>\n",
       "    <tr style=\"text-align: right;\">\n",
       "      <th></th>\n",
       "      <th>Start Time</th>\n",
       "      <th>End Time</th>\n",
       "      <th>Number of Failures</th>\n",
       "      <th>Number of Suspension</th>\n",
       "      <th>Entry</th>\n",
       "    </tr>\n",
       "  </thead>\n",
       "  <tbody>\n",
       "    <tr>\n",
       "      <th>0</th>\n",
       "      <td>0.00</td>\n",
       "      <td>1.15</td>\n",
       "      <td>2</td>\n",
       "      <td>4</td>\n",
       "      <td>55</td>\n",
       "    </tr>\n",
       "    <tr>\n",
       "      <th>1</th>\n",
       "      <td>1.15</td>\n",
       "      <td>2.31</td>\n",
       "      <td>0</td>\n",
       "      <td>5</td>\n",
       "      <td>0</td>\n",
       "    </tr>\n",
       "    <tr>\n",
       "      <th>2</th>\n",
       "      <td>2.31</td>\n",
       "      <td>3.46</td>\n",
       "      <td>2</td>\n",
       "      <td>2</td>\n",
       "      <td>0</td>\n",
       "    </tr>\n",
       "    <tr>\n",
       "      <th>3</th>\n",
       "      <td>3.46</td>\n",
       "      <td>4.62</td>\n",
       "      <td>3</td>\n",
       "      <td>5</td>\n",
       "      <td>0</td>\n",
       "    </tr>\n",
       "    <tr>\n",
       "      <th>4</th>\n",
       "      <td>4.62</td>\n",
       "      <td>5.77</td>\n",
       "      <td>2</td>\n",
       "      <td>1</td>\n",
       "      <td>0</td>\n",
       "    </tr>\n",
       "  </tbody>\n",
       "</table>\n",
       "</div>"
      ],
      "text/plain": [
       "   Start Time  End Time  Number of Failures  Number of Suspension  Entry\n",
       "0        0.00      1.15                   2                     4     55\n",
       "1        1.15      2.31                   0                     5      0\n",
       "2        2.31      3.46                   2                     2      0\n",
       "3        3.46      4.62                   3                     5      0\n",
       "4        4.62      5.77                   2                     1      0"
      ]
     },
     "execution_count": 2,
     "metadata": {},
     "output_type": "execute_result"
    }
   ],
   "source": [
    "ff = xl.parse(\"Sheet1\")\n",
    "ff.head()"
   ]
  },
  {
   "cell_type": "code",
   "execution_count": 3,
   "metadata": {},
   "outputs": [],
   "source": [
    "Entry=ff[\"Entry\"]\n",
    "f=ff[\"Number of Failures\"]\n",
    "s=ff[\"Number of Suspension\"]\n",
    "n=[]\n",
    "\n",
    "\n",
    "for i in range(0,len(Entry)):\n",
    "    if i==0:\n",
    "        n.append(Entry[0])\n",
    "    else:\n",
    "        n.append(Entry[0]-sum(f[0:i])-sum(s[0:i]))"
   ]
  },
  {
   "cell_type": "code",
   "execution_count": 4,
   "metadata": {},
   "outputs": [],
   "source": [
    "n_prime=n-s/2"
   ]
  },
  {
   "cell_type": "code",
   "execution_count": 5,
   "metadata": {},
   "outputs": [],
   "source": [
    "R=[]\n",
    "for i in range(0,len(Entry)):\n",
    "    if i==0:\n",
    "        R.append(1-f[0]/n_prime[0])\n",
    "    else:\n",
    "        R.append((1-f[i]/n_prime[i])*R[i-1])"
   ]
  },
  {
   "cell_type": "code",
   "execution_count": 6,
   "metadata": {},
   "outputs": [],
   "source": [
    "var_coeff=[]\n",
    "\n",
    "for i in range(0,len(Entry)):\n",
    "    if i==0:\n",
    "        var_coeff.append(f[0]/(n[0]*n[0]*(1-f[0]/n[0])))\n",
    "    else:\n",
    "        var_coeff.append(sum(var_coeff[0:i])+(f[i]/n[i]/n[i]/(1-f[i]/n[i])))\n",
    "\n"
   ]
  },
  {
   "cell_type": "code",
   "execution_count": 187,
   "metadata": {},
   "outputs": [],
   "source": [
    "R_square=[]\n",
    "for i in range(0,len(Entry)):\n",
    "    R_square.append(R[i]**2)\n"
   ]
  },
  {
   "cell_type": "code",
   "execution_count": 8,
   "metadata": {},
   "outputs": [],
   "source": [
    "Var=[]\n",
    "for i in range(0,len(Entry)):\n",
    "    Var.append(R_square[i]*var_coeff[i])\n",
    "    "
   ]
  },
  {
   "cell_type": "code",
   "execution_count": 9,
   "metadata": {},
   "outputs": [],
   "source": [
    "Var = np.asarray(Var)\n",
    "R=np.asarray(R)\n",
    "S_error=Var**0.5\n",
    "S_error=np.asarray(S_error)"
   ]
  },
  {
   "cell_type": "code",
   "execution_count": 216,
   "metadata": {},
   "outputs": [
    {
     "data": {
      "text/plain": [
       "2.5758293035489004"
      ]
     },
     "execution_count": 216,
     "metadata": {},
     "output_type": "execute_result"
    }
   ],
   "source": [
    "import scipy\n",
    "## confidence\n",
    "confidence=.99 ## https://stackoverflow.com/questions/20864847/probability-to-z-score-and-vice-versa-in-python\n",
    "alpha=1-confidence\n",
    "z=st.norm.ppf(1-alpha/2)\n",
    "z"
   ]
  },
  {
   "cell_type": "code",
   "execution_count": 217,
   "metadata": {},
   "outputs": [
    {
     "data": {
      "text/plain": [
       "[5.977267925656531,\n",
       " 5.977267925656531,\n",
       " 4.6972156540978665,\n",
       " 3.5401585991931106,\n",
       " 3.7947561022153558,\n",
       " 5.112391371738469,\n",
       " 6.576477234643286,\n",
       " 7.677881610295768,\n",
       " 9.410615672902864,\n",
       " 17.57267227408037,\n",
       " 29.46223715262005,\n",
       " 78.20864109076307,\n",
       " 225.7331637853401]"
      ]
     },
     "execution_count": 217,
     "metadata": {},
     "output_type": "execute_result"
    }
   ],
   "source": [
    "from math import exp\n",
    "w=[]\n",
    "for i in range(0,len(Entry)):\n",
    "    w.append(exp(z*(S_error[i]/(R[i]*(1-R[i])))))\n",
    "w"
   ]
  },
  {
   "cell_type": "code",
   "execution_count": 218,
   "metadata": {},
   "outputs": [],
   "source": [
    "LCB=[]\n",
    "UCB=[]\n",
    "for i in range(0,len(Entry)):\n",
    "    LCB.append(R[i]/(R[i]+(1-R[i])*w[i]))\n",
    "    UCB.append(R[i]/(R[i]+(1-R[i])/w[i]))"
   ]
  },
  {
   "cell_type": "code",
   "execution_count": 219,
   "metadata": {},
   "outputs": [
    {
     "data": {
      "image/png": "[encoded data removed]",
      "text/plain": [
       "<matplotlib.figure.Figure at 0x1797c1bbc88>"
      ]
     },
     "metadata": {},
     "output_type": "display_data"
    }
   ],
   "source": [
    "## https://www.geeksforgeeks.org/graph-plotting-in-python-set-1/\n",
    "import matplotlib.pyplot as plt\n",
    "\n",
    "plt.scatter(ff[\"End Time\"],R, label = \"Reliability Estimate\") ### for plotting line plt.plot; for scatter plt.scatter\n",
    "  \n",
    "plt.scatter(ff[\"End Time\"] ,LCB, label = \"LCB\") \n",
    "\n",
    "plt.scatter(ff[\"End Time\"] , UCB, label = \"UCB\") \n",
    "  \n",
    "# naming the x axis \n",
    "plt.xlabel('Timeline (Years)') \n",
    "# naming the y axis \n",
    "plt.ylabel('Reliability') \n",
    "# giving a title to my graph \n",
    "plt.title('Reliability Estimate with Confidence Level') \n",
    "  \n",
    "# show a legend on the plot \n",
    "plt.legend() \n",
    "  \n",
    "# function to show the plot \n",
    "plt.show() "
   ]
  }
 ],
 "metadata": {
  "kernelspec": {
   "display_name": "Python 3",
   "language": "python",
   "name": "python3"
  },
  "language_info": {
   "codemirror_mode": {
    "name": "ipython",
    "version": 3
   },
   "file_extension": ".py",
   "mimetype": "text/x-python",
   "name": "python",
   "nbconvert_exporter": "python",
   "pygments_lexer": "ipython3",
   "version": "3.6.6"
  }
 },
 "nbformat": 4,
 "nbformat_minor": 2
}
